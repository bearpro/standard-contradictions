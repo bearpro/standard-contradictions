{
 "cells": [
  {
   "cell_type": "code",
   "execution_count": 1,
   "metadata": {},
   "outputs": [],
   "source": [
    "import numpy as np\n",
    "from sklearn.datasets import load_digits\n",
    "from sklearn.model_selection import train_test_split\n",
    "from sklearn.preprocessing import StandardScaler\n",
    "import matplotlib.pyplot as plt\n",
    "import seaborn as sns\n",
    "import pandas as pd\n",
    "%matplotlib inline"
   ]
  },
  {
   "cell_type": "code",
   "execution_count": 2,
   "metadata": {},
   "outputs": [
    {
     "data": {
      "text/html": [
       "<div>\n",
       "<style scoped>\n",
       "    .dataframe tbody tr th:only-of-type {\n",
       "        vertical-align: middle;\n",
       "    }\n",
       "\n",
       "    .dataframe tbody tr th {\n",
       "        vertical-align: top;\n",
       "    }\n",
       "\n",
       "    .dataframe thead th {\n",
       "        text-align: right;\n",
       "    }\n",
       "</style>\n",
       "<table border=\"1\" class=\"dataframe\">\n",
       "  <thead>\n",
       "    <tr style=\"text-align: right;\">\n",
       "      <th></th>\n",
       "      <th>x0</th>\n",
       "      <th>x1</th>\n",
       "      <th>x2</th>\n",
       "      <th>x3</th>\n",
       "      <th>x4</th>\n",
       "      <th>x5</th>\n",
       "      <th>x6</th>\n",
       "      <th>x7</th>\n",
       "      <th>x8</th>\n",
       "      <th>x9</th>\n",
       "      <th>...</th>\n",
       "      <th>x1526</th>\n",
       "      <th>x1527</th>\n",
       "      <th>x1528</th>\n",
       "      <th>x1529</th>\n",
       "      <th>x1530</th>\n",
       "      <th>x1531</th>\n",
       "      <th>x1532</th>\n",
       "      <th>x1533</th>\n",
       "      <th>x1534</th>\n",
       "      <th>x1535</th>\n",
       "    </tr>\n",
       "  </thead>\n",
       "  <tbody>\n",
       "    <tr>\n",
       "      <th>count</th>\n",
       "      <td>261.000000</td>\n",
       "      <td>261.000000</td>\n",
       "      <td>261.000000</td>\n",
       "      <td>261.000000</td>\n",
       "      <td>261.000000</td>\n",
       "      <td>261.000000</td>\n",
       "      <td>261.000000</td>\n",
       "      <td>261.000000</td>\n",
       "      <td>261.000000</td>\n",
       "      <td>261.000000</td>\n",
       "      <td>...</td>\n",
       "      <td>261.000000</td>\n",
       "      <td>261.000000</td>\n",
       "      <td>261.000000</td>\n",
       "      <td>261.000000</td>\n",
       "      <td>261.000000</td>\n",
       "      <td>261.000000</td>\n",
       "      <td>261.000000</td>\n",
       "      <td>261.000000</td>\n",
       "      <td>261.000000</td>\n",
       "      <td>261.000000</td>\n",
       "    </tr>\n",
       "    <tr>\n",
       "      <th>mean</th>\n",
       "      <td>-0.000281</td>\n",
       "      <td>0.010373</td>\n",
       "      <td>-0.011227</td>\n",
       "      <td>-0.006104</td>\n",
       "      <td>-0.016409</td>\n",
       "      <td>0.022267</td>\n",
       "      <td>-0.023976</td>\n",
       "      <td>-0.018051</td>\n",
       "      <td>-0.012354</td>\n",
       "      <td>-0.010206</td>\n",
       "      <td>...</td>\n",
       "      <td>-0.012673</td>\n",
       "      <td>0.019681</td>\n",
       "      <td>0.011068</td>\n",
       "      <td>-0.006560</td>\n",
       "      <td>0.002362</td>\n",
       "      <td>0.002244</td>\n",
       "      <td>-0.006685</td>\n",
       "      <td>-0.002601</td>\n",
       "      <td>-0.007775</td>\n",
       "      <td>-0.008577</td>\n",
       "    </tr>\n",
       "    <tr>\n",
       "      <th>std</th>\n",
       "      <td>0.006776</td>\n",
       "      <td>0.010087</td>\n",
       "      <td>0.009772</td>\n",
       "      <td>0.008993</td>\n",
       "      <td>0.009892</td>\n",
       "      <td>0.006500</td>\n",
       "      <td>0.008152</td>\n",
       "      <td>0.007164</td>\n",
       "      <td>0.007903</td>\n",
       "      <td>0.008246</td>\n",
       "      <td>...</td>\n",
       "      <td>0.006632</td>\n",
       "      <td>0.006346</td>\n",
       "      <td>0.006842</td>\n",
       "      <td>0.008717</td>\n",
       "      <td>0.007808</td>\n",
       "      <td>0.009326</td>\n",
       "      <td>0.006856</td>\n",
       "      <td>0.005831</td>\n",
       "      <td>0.007428</td>\n",
       "      <td>0.004457</td>\n",
       "    </tr>\n",
       "    <tr>\n",
       "      <th>min</th>\n",
       "      <td>-0.022517</td>\n",
       "      <td>-0.025455</td>\n",
       "      <td>-0.035634</td>\n",
       "      <td>-0.030281</td>\n",
       "      <td>-0.045588</td>\n",
       "      <td>0.000542</td>\n",
       "      <td>-0.040827</td>\n",
       "      <td>-0.034519</td>\n",
       "      <td>-0.031040</td>\n",
       "      <td>-0.029847</td>\n",
       "      <td>...</td>\n",
       "      <td>-0.028021</td>\n",
       "      <td>-0.004117</td>\n",
       "      <td>-0.011396</td>\n",
       "      <td>-0.035971</td>\n",
       "      <td>-0.019928</td>\n",
       "      <td>-0.021658</td>\n",
       "      <td>-0.029881</td>\n",
       "      <td>-0.018058</td>\n",
       "      <td>-0.025562</td>\n",
       "      <td>-0.025720</td>\n",
       "    </tr>\n",
       "    <tr>\n",
       "      <th>25%</th>\n",
       "      <td>-0.005316</td>\n",
       "      <td>0.004338</td>\n",
       "      <td>-0.018660</td>\n",
       "      <td>-0.012089</td>\n",
       "      <td>-0.021466</td>\n",
       "      <td>0.018003</td>\n",
       "      <td>-0.030489</td>\n",
       "      <td>-0.021920</td>\n",
       "      <td>-0.017520</td>\n",
       "      <td>-0.016351</td>\n",
       "      <td>...</td>\n",
       "      <td>-0.017249</td>\n",
       "      <td>0.016197</td>\n",
       "      <td>0.007638</td>\n",
       "      <td>-0.010747</td>\n",
       "      <td>-0.002470</td>\n",
       "      <td>-0.006100</td>\n",
       "      <td>-0.011556</td>\n",
       "      <td>-0.007332</td>\n",
       "      <td>-0.012004</td>\n",
       "      <td>-0.011811</td>\n",
       "    </tr>\n",
       "    <tr>\n",
       "      <th>50%</th>\n",
       "      <td>0.000775</td>\n",
       "      <td>0.010676</td>\n",
       "      <td>-0.010004</td>\n",
       "      <td>-0.004768</td>\n",
       "      <td>-0.015729</td>\n",
       "      <td>0.022321</td>\n",
       "      <td>-0.024660</td>\n",
       "      <td>-0.017964</td>\n",
       "      <td>-0.011476</td>\n",
       "      <td>-0.012023</td>\n",
       "      <td>...</td>\n",
       "      <td>-0.012649</td>\n",
       "      <td>0.020157</td>\n",
       "      <td>0.010947</td>\n",
       "      <td>-0.006334</td>\n",
       "      <td>0.001551</td>\n",
       "      <td>0.002528</td>\n",
       "      <td>-0.006594</td>\n",
       "      <td>-0.002697</td>\n",
       "      <td>-0.007738</td>\n",
       "      <td>-0.008503</td>\n",
       "    </tr>\n",
       "    <tr>\n",
       "      <th>75%</th>\n",
       "      <td>0.004322</td>\n",
       "      <td>0.018482</td>\n",
       "      <td>-0.006009</td>\n",
       "      <td>0.000450</td>\n",
       "      <td>-0.010868</td>\n",
       "      <td>0.027018</td>\n",
       "      <td>-0.018018</td>\n",
       "      <td>-0.014501</td>\n",
       "      <td>-0.007533</td>\n",
       "      <td>-0.004815</td>\n",
       "      <td>...</td>\n",
       "      <td>-0.007424</td>\n",
       "      <td>0.023562</td>\n",
       "      <td>0.014872</td>\n",
       "      <td>-0.000129</td>\n",
       "      <td>0.006975</td>\n",
       "      <td>0.008942</td>\n",
       "      <td>-0.001095</td>\n",
       "      <td>0.001572</td>\n",
       "      <td>-0.002933</td>\n",
       "      <td>-0.005687</td>\n",
       "    </tr>\n",
       "    <tr>\n",
       "      <th>max</th>\n",
       "      <td>0.017907</td>\n",
       "      <td>0.035300</td>\n",
       "      <td>0.020397</td>\n",
       "      <td>0.016116</td>\n",
       "      <td>0.018794</td>\n",
       "      <td>0.040401</td>\n",
       "      <td>-0.001110</td>\n",
       "      <td>0.013883</td>\n",
       "      <td>0.007367</td>\n",
       "      <td>0.007818</td>\n",
       "      <td>...</td>\n",
       "      <td>0.011414</td>\n",
       "      <td>0.037552</td>\n",
       "      <td>0.037050</td>\n",
       "      <td>0.009276</td>\n",
       "      <td>0.021196</td>\n",
       "      <td>0.037778</td>\n",
       "      <td>0.010247</td>\n",
       "      <td>0.014554</td>\n",
       "      <td>0.020919</td>\n",
       "      <td>0.004992</td>\n",
       "    </tr>\n",
       "  </tbody>\n",
       "</table>\n",
       "<p>8 rows × 1536 columns</p>\n",
       "</div>"
      ],
      "text/plain": [
       "               x0          x1          x2          x3          x4          x5  \\\n",
       "count  261.000000  261.000000  261.000000  261.000000  261.000000  261.000000   \n",
       "mean    -0.000281    0.010373   -0.011227   -0.006104   -0.016409    0.022267   \n",
       "std      0.006776    0.010087    0.009772    0.008993    0.009892    0.006500   \n",
       "min     -0.022517   -0.025455   -0.035634   -0.030281   -0.045588    0.000542   \n",
       "25%     -0.005316    0.004338   -0.018660   -0.012089   -0.021466    0.018003   \n",
       "50%      0.000775    0.010676   -0.010004   -0.004768   -0.015729    0.022321   \n",
       "75%      0.004322    0.018482   -0.006009    0.000450   -0.010868    0.027018   \n",
       "max      0.017907    0.035300    0.020397    0.016116    0.018794    0.040401   \n",
       "\n",
       "               x6          x7          x8          x9  ...       x1526  \\\n",
       "count  261.000000  261.000000  261.000000  261.000000  ...  261.000000   \n",
       "mean    -0.023976   -0.018051   -0.012354   -0.010206  ...   -0.012673   \n",
       "std      0.008152    0.007164    0.007903    0.008246  ...    0.006632   \n",
       "min     -0.040827   -0.034519   -0.031040   -0.029847  ...   -0.028021   \n",
       "25%     -0.030489   -0.021920   -0.017520   -0.016351  ...   -0.017249   \n",
       "50%     -0.024660   -0.017964   -0.011476   -0.012023  ...   -0.012649   \n",
       "75%     -0.018018   -0.014501   -0.007533   -0.004815  ...   -0.007424   \n",
       "max     -0.001110    0.013883    0.007367    0.007818  ...    0.011414   \n",
       "\n",
       "            x1527       x1528       x1529       x1530       x1531       x1532  \\\n",
       "count  261.000000  261.000000  261.000000  261.000000  261.000000  261.000000   \n",
       "mean     0.019681    0.011068   -0.006560    0.002362    0.002244   -0.006685   \n",
       "std      0.006346    0.006842    0.008717    0.007808    0.009326    0.006856   \n",
       "min     -0.004117   -0.011396   -0.035971   -0.019928   -0.021658   -0.029881   \n",
       "25%      0.016197    0.007638   -0.010747   -0.002470   -0.006100   -0.011556   \n",
       "50%      0.020157    0.010947   -0.006334    0.001551    0.002528   -0.006594   \n",
       "75%      0.023562    0.014872   -0.000129    0.006975    0.008942   -0.001095   \n",
       "max      0.037552    0.037050    0.009276    0.021196    0.037778    0.010247   \n",
       "\n",
       "            x1533       x1534       x1535  \n",
       "count  261.000000  261.000000  261.000000  \n",
       "mean    -0.002601   -0.007775   -0.008577  \n",
       "std      0.005831    0.007428    0.004457  \n",
       "min     -0.018058   -0.025562   -0.025720  \n",
       "25%     -0.007332   -0.012004   -0.011811  \n",
       "50%     -0.002697   -0.007738   -0.008503  \n",
       "75%      0.001572   -0.002933   -0.005687  \n",
       "max      0.014554    0.020919    0.004992  \n",
       "\n",
       "[8 rows x 1536 columns]"
      ]
     },
     "execution_count": 2,
     "metadata": {},
     "output_type": "execute_result"
    }
   ],
   "source": [
    "embeddings_a = pd.read_csv(\"../data/havac_requirements/embeddings.csv\")\n",
    "embeddings_b = pd.read_csv(\"../data/pror_reqif_example/embeddings.csv\")\n",
    "\n",
    "embeddings_a.insert(1, 'source', 'a')\n",
    "embeddings_b.insert(1, 'source', 'b')\n",
    "\n",
    "embeddings = pd.concat([embeddings_a, embeddings_b], ignore_index=True)\n",
    "embeddings.describe()"
   ]
  },
  {
   "cell_type": "code",
   "execution_count": 3,
   "metadata": {},
   "outputs": [],
   "source": [
    "embedding_values = embeddings.iloc[:, 2:]\n",
    "scaled_embedding_values = embedding_values = StandardScaler().fit_transform(embedding_values)"
   ]
  },
  {
   "cell_type": "code",
   "execution_count": null,
   "metadata": {},
   "outputs": [
    {
     "name": "stderr",
     "output_type": "stream",
     "text": [
      "c:\\Users\\bearp\\source\\personal\\standard-contradictions\\embeddings-clusters\\.venv\\Lib\\site-packages\\sklearn\\utils\\deprecation.py:151: FutureWarning: 'force_all_finite' was renamed to 'ensure_all_finite' in 1.6 and will be removed in 1.8.\n",
      "  warnings.warn(\n",
      "c:\\Users\\bearp\\source\\personal\\standard-contradictions\\embeddings-clusters\\.venv\\Lib\\site-packages\\sklearn\\utils\\deprecation.py:151: FutureWarning: 'force_all_finite' was renamed to 'ensure_all_finite' in 1.6 and will be removed in 1.8.\n",
      "  warnings.warn(\n"
     ]
    },
    {
     "data": {
      "text/plain": [
       "array([-1, -1, -1, -1, -1, -1, -1,  1, -1, -1, -1, -1, -1, -1, -1, -1, -1,\n",
       "       -1, -1,  3, -1,  7,  7,  8,  3, -1,  7,  7,  8,  3, -1,  7,  7,  8,\n",
       "        3, -1,  7,  7,  8,  3, -1,  7,  7,  8,  3, -1,  7,  7,  8,  3, -1,\n",
       "        2,  2,  2,  2,  2,  2,  2,  2,  2,  0,  0,  0,  0, -1,  0,  0, -1,\n",
       "       -1, -1, -1, -1, -1, -1, -1, -1, -1, -1,  1,  1,  1,  1,  1,  1,  1,\n",
       "        9,  9, -1, -1,  9,  9, -1,  9, -1, -1, -1, -1, -1, 10, 10,  5, -1,\n",
       "       11, 11,  5, -1,  5, -1,  5, -1, -1,  5, 10, -1,  5, -1, 11, 11,  5,\n",
       "       -1,  5, -1,  5, -1,  5, 10, 11, 11,  5, -1,  5, -1,  5, -1,  5, 10,\n",
       "        5, -1,  5, -1, 11, 11,  5, -1,  5, 10, 10,  5, -1, 11, 11,  5, -1,\n",
       "        5, -1, 11, 11,  5, -1,  5, -1,  5, -1,  5, -1,  5, -1,  5, -1, 11,\n",
       "       11,  5, -1,  5, 10, -1,  5, -1, 11, 11,  5, -1,  5, -1,  5, -1,  5,\n",
       "       -1, 11, 11,  5, -1,  5, 12, 12,  6,  6,  6, 12, 12,  6,  6,  6, 12,\n",
       "       12,  6,  6,  6, -1,  4,  4,  4,  4,  4,  4,  4,  4,  4,  4,  4,  4,\n",
       "        4,  4,  4,  4,  4,  4,  4,  4,  4,  4,  4,  4,  4,  4,  4,  4,  4,\n",
       "        4,  4,  4,  4,  4, -1, -1, -1, -1, -1,  0,  0,  0,  0,  0,  0,  0,\n",
       "       -1,  0,  0,  0,  0,  0])"
      ]
     },
     "execution_count": 4,
     "metadata": {},
     "output_type": "execute_result"
    }
   ],
   "source": [
    "import hdbscan\n",
    "\n",
    "clusterer = hdbscan.HDBSCAN()\n",
    "cluster_labels = clusterer.fit_predict(embedding_values)\n",
    "embeddings.insert(loc=2, column='cluster_labels', value=cluster_labels)\n",
    "cluster_labels"
   ]
  },
  {
   "cell_type": "code",
   "execution_count": 5,
   "metadata": {},
   "outputs": [
    {
     "name": "stderr",
     "output_type": "stream",
     "text": [
      "c:\\Users\\bearp\\source\\personal\\standard-contradictions\\embeddings-clusters\\.venv\\Lib\\site-packages\\tqdm\\auto.py:21: TqdmWarning: IProgress not found. Please update jupyter and ipywidgets. See https://ipywidgets.readthedocs.io/en/stable/user_install.html\n",
      "  from .autonotebook import tqdm as notebook_tqdm\n",
      "c:\\Users\\bearp\\source\\personal\\standard-contradictions\\embeddings-clusters\\.venv\\Lib\\site-packages\\sklearn\\utils\\deprecation.py:151: FutureWarning: 'force_all_finite' was renamed to 'ensure_all_finite' in 1.6 and will be removed in 1.8.\n",
      "  warnings.warn(\n"
     ]
    },
    {
     "data": {
      "text/plain": [
       "(261, 3)"
      ]
     },
     "execution_count": 5,
     "metadata": {},
     "output_type": "execute_result"
    }
   ],
   "source": [
    "import umap\n",
    "\n",
    "reducer = umap.UMAP(n_components=3)\n",
    "\n",
    "rdim_embedding_values = reducer.fit_transform(scaled_embedding_values)\n",
    "rdim_embedding_values.shape"
   ]
  },
  {
   "cell_type": "code",
   "execution_count": 9,
   "metadata": {},
   "outputs": [
    {
     "data": {
      "application/vnd.plotly.v1+json": {
       "config": {
        "plotlyServerURL": "https://plot.ly"
       },
       "data": [
        {
         "customdata": [
          [
           "a",
           0,
           -1
          ],
          [
           "a",
           1,
           -1
          ],
          [
           "a",
           2,
           -1
          ],
          [
           "a",
           3,
           -1
          ],
          [
           "a",
           4,
           -1
          ],
          [
           "a",
           5,
           -1
          ],
          [
           "a",
           6,
           -1
          ],
          [
           "a",
           7,
           1
          ],
          [
           "a",
           8,
           -1
          ],
          [
           "a",
           9,
           -1
          ],
          [
           "a",
           10,
           -1
          ],
          [
           "a",
           11,
           -1
          ],
          [
           "a",
           12,
           -1
          ],
          [
           "a",
           13,
           -1
          ],
          [
           "a",
           14,
           -1
          ],
          [
           "a",
           15,
           -1
          ],
          [
           "a",
           16,
           -1
          ],
          [
           "a",
           17,
           -1
          ],
          [
           "a",
           18,
           -1
          ],
          [
           "a",
           19,
           3
          ],
          [
           "a",
           20,
           -1
          ],
          [
           "a",
           21,
           7
          ],
          [
           "a",
           22,
           7
          ],
          [
           "a",
           23,
           8
          ],
          [
           "a",
           24,
           3
          ],
          [
           "a",
           25,
           -1
          ],
          [
           "a",
           26,
           7
          ],
          [
           "a",
           27,
           7
          ],
          [
           "a",
           28,
           8
          ],
          [
           "a",
           29,
           3
          ],
          [
           "a",
           30,
           -1
          ],
          [
           "a",
           31,
           7
          ],
          [
           "a",
           32,
           7
          ],
          [
           "a",
           33,
           8
          ],
          [
           "a",
           34,
           3
          ],
          [
           "a",
           35,
           -1
          ],
          [
           "a",
           36,
           7
          ],
          [
           "a",
           37,
           7
          ],
          [
           "a",
           38,
           8
          ],
          [
           "a",
           39,
           3
          ],
          [
           "a",
           40,
           -1
          ],
          [
           "a",
           41,
           7
          ],
          [
           "a",
           42,
           7
          ],
          [
           "a",
           43,
           8
          ],
          [
           "a",
           44,
           3
          ],
          [
           "a",
           45,
           -1
          ],
          [
           "a",
           46,
           7
          ],
          [
           "a",
           47,
           7
          ],
          [
           "a",
           48,
           8
          ],
          [
           "a",
           49,
           3
          ],
          [
           "a",
           50,
           -1
          ],
          [
           "a",
           51,
           2
          ],
          [
           "a",
           52,
           2
          ],
          [
           "a",
           53,
           2
          ],
          [
           "a",
           54,
           2
          ],
          [
           "a",
           55,
           2
          ],
          [
           "a",
           56,
           2
          ],
          [
           "a",
           57,
           2
          ],
          [
           "a",
           58,
           2
          ],
          [
           "a",
           59,
           2
          ],
          [
           "a",
           60,
           0
          ],
          [
           "a",
           61,
           0
          ],
          [
           "a",
           62,
           0
          ],
          [
           "a",
           63,
           0
          ],
          [
           "a",
           64,
           -1
          ],
          [
           "a",
           65,
           0
          ],
          [
           "a",
           66,
           0
          ]
         ],
         "hovertemplate": "file=%{customdata[0]}<br>x=%{x}<br>y=%{y}<br>z=%{z}<br>line=%{customdata[1]}<br>cluster=%{marker.color}<extra></extra>",
         "legendgroup": "a",
         "marker": {
          "color": {
           "bdata": "/////////wH//////////////wP/BwcIA/8HBwgD/wcHCAP/BwcIA/8HBwgD/wcHCAP/AgICAgICAgICAAAAAP8AAA==",
           "dtype": "i1"
          },
          "coloraxis": "coloraxis",
          "symbol": "circle"
         },
         "mode": "markers",
         "name": "a",
         "scene": "scene",
         "showlegend": true,
         "type": "scatter3d",
         "x": {
          "bdata": "NN1EwH36P8BY+ETA7+pNwA6tQsDy30rAn56RP9Qrpz9u0aY/yPGuP307lj9UCkY/Ue5CPzAkFD9K81I/SSrxvaQfYT7taSc+zPgSPcg7REBUzkm+yPimPZwx6LzKpUK+95k/QA1rAL6lujs+5rDfPaIJQb7JdkZAWfcQvcqrhj4gwnc9sCtdPV+xR0A9GcK9nEBBPpxYhb2pMT++EJNEQHo0s715Ug4+bELOvSTYk74xkUFAAtWGvd8b8D2HkBe+nmnOvc6BQUBjA0ZA675RQJcIYkBFVWJA2uNeQBueZUC2vltAAeZjQCxsZUAWXmBAfKt5Qa4ieEEb2XlBGvN6QckvgkEGDoJBNhuAQQ==",
          "dtype": "f4"
         },
         "y": {
          "bdata": "9+oJQJuSCkCHcPA/4JoNQHbT9T+AkQ1AyOslQfqdMkHVwDJB85AzQabVJkEq2h1BuJ8dQaCSH0GsTx1BgBkfQafDJkEO5CNBI6keQZvK50B4Px9BWowpQYLqJkFMIh5BeeHkQLqLHEGcXypBAF8nQZ/tG0E0muhAsUYdQW7GKkGa5SRB4Y8aQW+E6UDAwRxB0TkpQbfkJEEvMx1BAm/mQEbHHEHzKStB2uskQZRxG0GZ+OVAJZEbQZ55KUGhrSNBSskaQYz76ECtMApB2BsKQVxoCUEcjAhB5asIQd1tB0HyTApB1IYIQeTFB0G/NwhBjqTvQCyu6UA9ce1AH8/qQDnf6kBX5OpAGZz5QA==",
          "dtype": "f4"
         },
         "z": {
          "bdata": "jkfwQJzd8kBPyuVAzr/wQL+V50DjOO5AC1vgQL44/kDStP1A9Wr8QAzu3UBk8+1AD9PvQEmj+EDYO+xA6BEdQdrPDUEYhQ9BYUkXQXqvT0FNyBxBomcKQYwdDEFfyBpBKd9QQVsrG0E34QlBjUkOQQm9HEEGA09Bcy8dQYZQCEEzdApBtTIeQVp2T0FwGBhBF7AKQX8YDUGZYBtB0nNQQecjGUEglAlBYmwNQTYIHkHEKk9BqCwaQReiCkFSxAxBq+AbQRbJTkHxPSlBNYQpQaffLEGKyC1BgTMsQXnnK0Gc2CtBOIgtQRVOLUFCgixBF2STQEHzkkDZhJVA+oOMQOFnm0D2y5pAFhGQQA==",
          "dtype": "f4"
         }
        },
        {
         "customdata": [
          [
           "b",
           0,
           -1
          ],
          [
           "b",
           1,
           -1
          ],
          [
           "b",
           2,
           -1
          ],
          [
           "b",
           3,
           -1
          ],
          [
           "b",
           4,
           -1
          ],
          [
           "b",
           5,
           -1
          ],
          [
           "b",
           6,
           -1
          ],
          [
           "b",
           7,
           -1
          ],
          [
           "b",
           8,
           -1
          ],
          [
           "b",
           9,
           -1
          ],
          [
           "b",
           10,
           -1
          ],
          [
           "b",
           11,
           1
          ],
          [
           "b",
           12,
           1
          ],
          [
           "b",
           13,
           1
          ],
          [
           "b",
           14,
           1
          ],
          [
           "b",
           15,
           1
          ],
          [
           "b",
           16,
           1
          ],
          [
           "b",
           17,
           1
          ],
          [
           "b",
           18,
           9
          ],
          [
           "b",
           19,
           9
          ],
          [
           "b",
           20,
           -1
          ],
          [
           "b",
           21,
           -1
          ],
          [
           "b",
           22,
           9
          ],
          [
           "b",
           23,
           9
          ],
          [
           "b",
           24,
           -1
          ],
          [
           "b",
           25,
           9
          ],
          [
           "b",
           26,
           -1
          ],
          [
           "b",
           27,
           -1
          ],
          [
           "b",
           28,
           -1
          ],
          [
           "b",
           29,
           -1
          ],
          [
           "b",
           30,
           -1
          ],
          [
           "b",
           31,
           10
          ],
          [
           "b",
           32,
           10
          ],
          [
           "b",
           33,
           5
          ],
          [
           "b",
           34,
           -1
          ],
          [
           "b",
           35,
           11
          ],
          [
           "b",
           36,
           11
          ],
          [
           "b",
           37,
           5
          ],
          [
           "b",
           38,
           -1
          ],
          [
           "b",
           39,
           5
          ],
          [
           "b",
           40,
           -1
          ],
          [
           "b",
           41,
           5
          ],
          [
           "b",
           42,
           -1
          ],
          [
           "b",
           43,
           -1
          ],
          [
           "b",
           44,
           5
          ],
          [
           "b",
           45,
           10
          ],
          [
           "b",
           46,
           -1
          ],
          [
           "b",
           47,
           5
          ],
          [
           "b",
           48,
           -1
          ],
          [
           "b",
           49,
           11
          ],
          [
           "b",
           50,
           11
          ],
          [
           "b",
           51,
           5
          ],
          [
           "b",
           52,
           -1
          ],
          [
           "b",
           53,
           5
          ],
          [
           "b",
           54,
           -1
          ],
          [
           "b",
           55,
           5
          ],
          [
           "b",
           56,
           -1
          ],
          [
           "b",
           57,
           5
          ],
          [
           "b",
           58,
           10
          ],
          [
           "b",
           59,
           11
          ],
          [
           "b",
           60,
           11
          ],
          [
           "b",
           61,
           5
          ],
          [
           "b",
           62,
           -1
          ],
          [
           "b",
           63,
           5
          ],
          [
           "b",
           64,
           -1
          ],
          [
           "b",
           65,
           5
          ],
          [
           "b",
           66,
           -1
          ],
          [
           "b",
           67,
           5
          ],
          [
           "b",
           68,
           10
          ],
          [
           "b",
           69,
           5
          ],
          [
           "b",
           70,
           -1
          ],
          [
           "b",
           71,
           5
          ],
          [
           "b",
           72,
           -1
          ],
          [
           "b",
           73,
           11
          ],
          [
           "b",
           74,
           11
          ],
          [
           "b",
           75,
           5
          ],
          [
           "b",
           76,
           -1
          ],
          [
           "b",
           77,
           5
          ],
          [
           "b",
           78,
           10
          ],
          [
           "b",
           79,
           10
          ],
          [
           "b",
           80,
           5
          ],
          [
           "b",
           81,
           -1
          ],
          [
           "b",
           82,
           11
          ],
          [
           "b",
           83,
           11
          ],
          [
           "b",
           84,
           5
          ],
          [
           "b",
           85,
           -1
          ],
          [
           "b",
           86,
           5
          ],
          [
           "b",
           87,
           -1
          ],
          [
           "b",
           88,
           11
          ],
          [
           "b",
           89,
           11
          ],
          [
           "b",
           90,
           5
          ],
          [
           "b",
           91,
           -1
          ],
          [
           "b",
           92,
           5
          ],
          [
           "b",
           93,
           -1
          ],
          [
           "b",
           94,
           5
          ],
          [
           "b",
           95,
           -1
          ],
          [
           "b",
           96,
           5
          ],
          [
           "b",
           97,
           -1
          ],
          [
           "b",
           98,
           5
          ],
          [
           "b",
           99,
           -1
          ],
          [
           "b",
           100,
           5
          ],
          [
           "b",
           101,
           -1
          ],
          [
           "b",
           102,
           11
          ],
          [
           "b",
           103,
           11
          ],
          [
           "b",
           104,
           5
          ],
          [
           "b",
           105,
           -1
          ],
          [
           "b",
           106,
           5
          ],
          [
           "b",
           107,
           10
          ],
          [
           "b",
           108,
           -1
          ],
          [
           "b",
           109,
           5
          ],
          [
           "b",
           110,
           -1
          ],
          [
           "b",
           111,
           11
          ],
          [
           "b",
           112,
           11
          ],
          [
           "b",
           113,
           5
          ],
          [
           "b",
           114,
           -1
          ],
          [
           "b",
           115,
           5
          ],
          [
           "b",
           116,
           -1
          ],
          [
           "b",
           117,
           5
          ],
          [
           "b",
           118,
           -1
          ],
          [
           "b",
           119,
           5
          ],
          [
           "b",
           120,
           -1
          ],
          [
           "b",
           121,
           11
          ],
          [
           "b",
           122,
           11
          ],
          [
           "b",
           123,
           5
          ],
          [
           "b",
           124,
           -1
          ],
          [
           "b",
           125,
           5
          ],
          [
           "b",
           126,
           12
          ],
          [
           "b",
           127,
           12
          ],
          [
           "b",
           128,
           6
          ],
          [
           "b",
           129,
           6
          ],
          [
           "b",
           130,
           6
          ],
          [
           "b",
           131,
           12
          ],
          [
           "b",
           132,
           12
          ],
          [
           "b",
           133,
           6
          ],
          [
           "b",
           134,
           6
          ],
          [
           "b",
           135,
           6
          ],
          [
           "b",
           136,
           12
          ],
          [
           "b",
           137,
           12
          ],
          [
           "b",
           138,
           6
          ],
          [
           "b",
           139,
           6
          ],
          [
           "b",
           140,
           6
          ],
          [
           "b",
           141,
           -1
          ],
          [
           "b",
           142,
           4
          ],
          [
           "b",
           143,
           4
          ],
          [
           "b",
           144,
           4
          ],
          [
           "b",
           145,
           4
          ],
          [
           "b",
           146,
           4
          ],
          [
           "b",
           147,
           4
          ],
          [
           "b",
           148,
           4
          ],
          [
           "b",
           149,
           4
          ],
          [
           "b",
           150,
           4
          ],
          [
           "b",
           151,
           4
          ],
          [
           "b",
           152,
           4
          ],
          [
           "b",
           153,
           4
          ],
          [
           "b",
           154,
           4
          ],
          [
           "b",
           155,
           4
          ],
          [
           "b",
           156,
           4
          ],
          [
           "b",
           157,
           4
          ],
          [
           "b",
           158,
           4
          ],
          [
           "b",
           159,
           4
          ],
          [
           "b",
           160,
           4
          ],
          [
           "b",
           161,
           4
          ],
          [
           "b",
           162,
           4
          ],
          [
           "b",
           163,
           4
          ],
          [
           "b",
           164,
           4
          ],
          [
           "b",
           165,
           4
          ],
          [
           "b",
           166,
           4
          ],
          [
           "b",
           167,
           4
          ],
          [
           "b",
           168,
           4
          ],
          [
           "b",
           169,
           4
          ],
          [
           "b",
           170,
           4
          ],
          [
           "b",
           171,
           4
          ],
          [
           "b",
           172,
           4
          ],
          [
           "b",
           173,
           4
          ],
          [
           "b",
           174,
           4
          ],
          [
           "b",
           175,
           4
          ],
          [
           "b",
           176,
           -1
          ],
          [
           "b",
           177,
           -1
          ],
          [
           "b",
           178,
           -1
          ],
          [
           "b",
           179,
           -1
          ],
          [
           "b",
           180,
           -1
          ],
          [
           "b",
           181,
           0
          ],
          [
           "b",
           182,
           0
          ],
          [
           "b",
           183,
           0
          ],
          [
           "b",
           184,
           0
          ],
          [
           "b",
           185,
           0
          ],
          [
           "b",
           186,
           0
          ],
          [
           "b",
           187,
           0
          ],
          [
           "b",
           188,
           -1
          ],
          [
           "b",
           189,
           0
          ],
          [
           "b",
           190,
           0
          ],
          [
           "b",
           191,
           0
          ],
          [
           "b",
           192,
           0
          ],
          [
           "b",
           193,
           0
          ]
         ],
         "hovertemplate": "file=%{customdata[0]}<br>x=%{x}<br>y=%{y}<br>z=%{z}<br>line=%{customdata[1]}<br>cluster=%{marker.color}<extra></extra>",
         "legendgroup": "b",
         "marker": {
          "color": {
           "bdata": "//////////////8BAQEBAQEBCQn//wkJ/wn//////woKBf8LCwX/Bf8F//8FCv8F/wsLBf8F/wX/BQoLCwX/Bf8F/wUKBf8F/wsLBf8FCgoF/wsLBf8F/wsLBf8F/wX/Bf8F/wX/CwsF/wUK/wX/CwsF/wX/Bf8F/wsLBf8FDAwGBgYMDAYGBgwMBgYG/wQEBAQEBAQEBAQEBAQEBAQEBAQEBAQEBAQEBAQEBAQEBAT//////wAAAAAAAAD/AAAAAAA=",
           "dtype": "i1"
          },
          "coloraxis": "coloraxis",
          "symbol": "diamond"
         },
         "mode": "markers",
         "name": "b",
         "scene": "scene",
         "showlegend": true,
         "type": "scatter3d",
         "x": {
          "bdata": "BDRHwBBAO8ATjUDAZzxMwEvaRMDlyJs/24ikP98qnz8uJps/pVnVPzp90j+p7c0/7/TTP+FAzD8m69I/wrjcP5Towz/f3dQ/HjiGPzIXkD8sV40/an+UPz7Eaz+M7Q4/gQqaPjK1yj4s+Xs/4/asP3tXtj9EeJg/6HpsP20SIT+Nlmc/Y6kHwEdegT7uy6e/MHWkvXJ2Zb/R1jM/HtotwB8eDz+Og0y/rCMuP4ZtPD840jnAyTgQP+CcHz/AokHAhnlsPrOZtL/cply+eWU3v5ygTT/79i3AMVR6PwP2K8CldoY/2A1BwO0NhD/edLG/kOIFvqq6N79a42k/cB0hwASUiT8XdyzAj8yAPz2iH8DXuEc/Ju44wOdZgT+DKTfAtlR/P9numr+3sLy+b1k8v1e7fT+09CjA9RFMPxyZaj8sLTPAXNWdPii4q79pFQK+fqtgv1FY+z4tqzPAksaqPl26tr/IKlC+Djpev26bGj+QdDTAjJNJP+XcO8D5SHg/KRMxwEV2Uj9Ti0jAAZJiPxWJLMB3FI8/DJqqv2rOhr7nMVS/P1KKPx5wMcDmvFQ/oaqYP6B+H8BPbp8+IU+tv2WSDr7Nxyy/k9MJP7RVP8C1C1o+E19KvydXoD/spELAkxSZPzrVwL8KbAE9xL5gv7DNlj9JtDDA7EVAv4lX/76mrx7A0HAjwM0VIsBj1jW//+MAv7w1H8BtpiPA4psnwJWGZ7/E0ga/1r8fwLZ8JcD/JSjAvAgZP+dVUkAbZFVAQldqQMwibUBpQt4/EwxaQH19yz9pNvk/5fLpPyVE1z9lD+A/keBhQA140D9w/9M/n49jQBo29D9iNVVAf4BsQNlG8z80RWRAsIX4P0Jx7T9Mh/A/psjsP8qJ+D+BgmNAON3lP3qMUUBodmBApJr4PweOZUDUaQBAvMdnQE7X9z9SVcw/V48iQMTWLUCGeSpA6sYqQJkYfEH/AXxBAVp8QQS5fEEPX3xBk5F7QVIefEFbT4JBuFyBQQNdgEHfhn9Bq3uAQTdWf0E=",
          "dtype": "f4"
         },
         "y": {
          "bdata": "iXMGQFvxAkActP0/aJ/+P31p/D9h/SZBK/gnQThPJEHVDyNBNMI1QdFQNkFIaTRBUdw1Qe55N0G/AjhBh102Qf6eN0EvrTZBFfUdQapXHkHCKBtBFLQbQUFQHkEkQx1BkvUdQRt1HUE9Yh9BYRUaQUTsGEGw9xtBjOIaQdQENUHzxjNBCN0lQBnoMEFkxh5BHhYfQYt3J0B4dDNBmlYPQL7iMEEabS1Ab70uQY9/K0GRpRRA1MEsQd20LEFjxi1A9Zw0QcrXH0H/hhxBpDQzQFT5OEEWRhFA0tc0QYNKBkBmCzhB7YsjQGu9MEH9DiFB7gMcQRcbMkApSSxBiooJQHUXMkHp4gRAMEo1QZ0mBkBQ6y1Bu9UjQLHDMkHG0iNAOfI1QavyHEGKhhpBZ9kwQLzQOUGMDBBAzdozQSFXN0GCDCxATZAwQaA/H0HxGx1BwTUmQNX/MkHf0wpASN0zQdoGIUFHthtBN2ctQAv1MUEWbBZAPuY6QZCgHECQ9jdBb/QTQKx/OkG8Qw9AMZs4QYVNAkDq3TRBYkAfQQA4G0HlkyxAkiI2QetgFEApkTJBUuw1QQe9GECVOzFBC6gfQY8LHkHsUDRAAaQxQTdKHEDltzRBpJUiQCaLMEEMGhtAOXozQS3zIUFo2x9BWO0lQO7BMkFzmytAApggQfFxIEEvIGY/YD9lP71PXj+l0SFBvOAgQVUGVj9JHUc/Z1VRP2wtIUFfeyBBnMFbP7K8Xj+yIk0/mf8rQXsUC0H8wQtBPUMIQeB4CEFjk8NAtF4FQWKjx0BVvr9AilvDQNqJxUDYVsBAmb4GQdoMwUADQMFAf+sFQbRPxEDC0QtB6xcHQd5cxEBJLQhBlonDQCBkykCHGsVAOYTGQO+BxUDDVAhB4gTEQH3zCkGvMQhBH9DEQFxSCUFjvMdAt6AJQVsyxkBR6BZBeVwGQYKRBEHsEQNBf+MBQXog8ECRLOxARLTrQCGi6kBKiu9ApvfpQNux60CZaexAarvqQDmv+UCim/hAUdT7QEWx+EA=",
          "dtype": "f4"
         },
         "z": {
          "bdata": "n1DtQHnR8UCezulAjdvqQIZ96EA0kt5ARfXcQLpg1kCsZdRAk8f0QK1d9UDVufFAsB/1QOzl80CiV/pAl+v4QNt190DkAfZAIMfHQC99ykC/o8hAGJvLQPq4wkA5UrtA8t20QNZit0C4xcJAosK/QBnxwkCWbchAnm3IQFz0pMDl2JTATFcFQaSEo8DBM55A36qmQLH/BkGQ353ADO8FQfUapsDJpAhBLBahwNMvpMDWQgZBc92lwEDmpcBF0QBBDsWfwHohnEDVdKxAbC8KQSTXrsA7ygJBUxegwM6IAkFSkJrACvwAQRQLp8DGp5lAC9apQEL7CUE4WaLA5jgCQTtJj8CBggNBUTWXwFrsBEELwZjAxUMCQQwTksAXrwBBHYiswLygoUA6SK1ASp4JQZmBqMAyUwRBTdGgwLIFnMADQANBPqihwEMhnUA+ialAXOEGQeMIlcCppgFB8CigwFCvmUB32KxAzrsIQR6MmMBT2whBd+auwHAhB0HBAa3AlLwFQQdSrsByX/9A/P6swJqbBUF/YKbAvgidQLatrkBSeAhB3DekwFLoCUFl2qXAvdeTwBqVBEFrSKDAgUqcQEP3qUDdhgpBQsKXwI5sAkFSFp/AMzIGQXcbi8AD5ARBeqqTwL2DmEBQQKtAPsoGQfdRkMD33QRB52WaQIVxnEAFggVBX+IDQVmaBEEZA5hAUsKbQP43BUFA/QNBgBcDQSENmECwRJxAmS4FQem2A0Gj/AJBA66awAmSPUAnM0FA1NtOQL+EVEC/7GhA7RBXQAezfUB0nWVAyFiAQEVQf0B9G3lAEhBXQB7sekCUlmpAoEpDQMRiZUC1G0BAIhhSQEWffkBepEdAKuaAQA7Mg0A9pGBAR/KCQG3Rf0Az5VNAUCFgQFN0OkBAW01A30t/QCP3SECQuGZANFBJQICRXECnd7ZAkWyFQEuwfUAls39AGbt9QLKvkkBVmo9AoSCOQGqcjEARNJJAfF+LQLfgiUB4tJtACTuYQPXEkUBBto9AWvyQQGKmj0A=",
          "dtype": "f4"
         }
        }
       ],
       "layout": {
        "coloraxis": {
         "colorbar": {
          "title": {
           "text": "cluster"
          }
         },
         "colorscale": [
          [
           0,
           "#0d0887"
          ],
          [
           0.1111111111111111,
           "#46039f"
          ],
          [
           0.2222222222222222,
           "#7201a8"
          ],
          [
           0.3333333333333333,
           "#9c179e"
          ],
          [
           0.4444444444444444,
           "#bd3786"
          ],
          [
           0.5555555555555556,
           "#d8576b"
          ],
          [
           0.6666666666666666,
           "#ed7953"
          ],
          [
           0.7777777777777778,
           "#fb9f3a"
          ],
          [
           0.8888888888888888,
           "#fdca26"
          ],
          [
           1,
           "#f0f921"
          ]
         ]
        },
        "height": 800,
        "legend": {
         "title": {
          "text": "file"
         },
         "tracegroupgap": 0
        },
        "margin": {
         "t": 60
        },
        "scene": {
         "domain": {
          "x": [
           0,
           1
          ],
          "y": [
           0,
           1
          ]
         },
         "xaxis": {
          "title": {
           "text": "x"
          }
         },
         "yaxis": {
          "title": {
           "text": "y"
          }
         },
         "zaxis": {
          "title": {
           "text": "z"
          }
         }
        },
        "template": {
         "data": {
          "bar": [
           {
            "error_x": {
             "color": "#2a3f5f"
            },
            "error_y": {
             "color": "#2a3f5f"
            },
            "marker": {
             "line": {
              "color": "#E5ECF6",
              "width": 0.5
             },
             "pattern": {
              "fillmode": "overlay",
              "size": 10,
              "solidity": 0.2
             }
            },
            "type": "bar"
           }
          ],
          "barpolar": [
           {
            "marker": {
             "line": {
              "color": "#E5ECF6",
              "width": 0.5
             },
             "pattern": {
              "fillmode": "overlay",
              "size": 10,
              "solidity": 0.2
             }
            },
            "type": "barpolar"
           }
          ],
          "carpet": [
           {
            "aaxis": {
             "endlinecolor": "#2a3f5f",
             "gridcolor": "white",
             "linecolor": "white",
             "minorgridcolor": "white",
             "startlinecolor": "#2a3f5f"
            },
            "baxis": {
             "endlinecolor": "#2a3f5f",
             "gridcolor": "white",
             "linecolor": "white",
             "minorgridcolor": "white",
             "startlinecolor": "#2a3f5f"
            },
            "type": "carpet"
           }
          ],
          "choropleth": [
           {
            "colorbar": {
             "outlinewidth": 0,
             "ticks": ""
            },
            "type": "choropleth"
           }
          ],
          "contour": [
           {
            "colorbar": {
             "outlinewidth": 0,
             "ticks": ""
            },
            "colorscale": [
             [
              0,
              "#0d0887"
             ],
             [
              0.1111111111111111,
              "#46039f"
             ],
             [
              0.2222222222222222,
              "#7201a8"
             ],
             [
              0.3333333333333333,
              "#9c179e"
             ],
             [
              0.4444444444444444,
              "#bd3786"
             ],
             [
              0.5555555555555556,
              "#d8576b"
             ],
             [
              0.6666666666666666,
              "#ed7953"
             ],
             [
              0.7777777777777778,
              "#fb9f3a"
             ],
             [
              0.8888888888888888,
              "#fdca26"
             ],
             [
              1,
              "#f0f921"
             ]
            ],
            "type": "contour"
           }
          ],
          "contourcarpet": [
           {
            "colorbar": {
             "outlinewidth": 0,
             "ticks": ""
            },
            "type": "contourcarpet"
           }
          ],
          "heatmap": [
           {
            "colorbar": {
             "outlinewidth": 0,
             "ticks": ""
            },
            "colorscale": [
             [
              0,
              "#0d0887"
             ],
             [
              0.1111111111111111,
              "#46039f"
             ],
             [
              0.2222222222222222,
              "#7201a8"
             ],
             [
              0.3333333333333333,
              "#9c179e"
             ],
             [
              0.4444444444444444,
              "#bd3786"
             ],
             [
              0.5555555555555556,
              "#d8576b"
             ],
             [
              0.6666666666666666,
              "#ed7953"
             ],
             [
              0.7777777777777778,
              "#fb9f3a"
             ],
             [
              0.8888888888888888,
              "#fdca26"
             ],
             [
              1,
              "#f0f921"
             ]
            ],
            "type": "heatmap"
           }
          ],
          "histogram": [
           {
            "marker": {
             "pattern": {
              "fillmode": "overlay",
              "size": 10,
              "solidity": 0.2
             }
            },
            "type": "histogram"
           }
          ],
          "histogram2d": [
           {
            "colorbar": {
             "outlinewidth": 0,
             "ticks": ""
            },
            "colorscale": [
             [
              0,
              "#0d0887"
             ],
             [
              0.1111111111111111,
              "#46039f"
             ],
             [
              0.2222222222222222,
              "#7201a8"
             ],
             [
              0.3333333333333333,
              "#9c179e"
             ],
             [
              0.4444444444444444,
              "#bd3786"
             ],
             [
              0.5555555555555556,
              "#d8576b"
             ],
             [
              0.6666666666666666,
              "#ed7953"
             ],
             [
              0.7777777777777778,
              "#fb9f3a"
             ],
             [
              0.8888888888888888,
              "#fdca26"
             ],
             [
              1,
              "#f0f921"
             ]
            ],
            "type": "histogram2d"
           }
          ],
          "histogram2dcontour": [
           {
            "colorbar": {
             "outlinewidth": 0,
             "ticks": ""
            },
            "colorscale": [
             [
              0,
              "#0d0887"
             ],
             [
              0.1111111111111111,
              "#46039f"
             ],
             [
              0.2222222222222222,
              "#7201a8"
             ],
             [
              0.3333333333333333,
              "#9c179e"
             ],
             [
              0.4444444444444444,
              "#bd3786"
             ],
             [
              0.5555555555555556,
              "#d8576b"
             ],
             [
              0.6666666666666666,
              "#ed7953"
             ],
             [
              0.7777777777777778,
              "#fb9f3a"
             ],
             [
              0.8888888888888888,
              "#fdca26"
             ],
             [
              1,
              "#f0f921"
             ]
            ],
            "type": "histogram2dcontour"
           }
          ],
          "mesh3d": [
           {
            "colorbar": {
             "outlinewidth": 0,
             "ticks": ""
            },
            "type": "mesh3d"
           }
          ],
          "parcoords": [
           {
            "line": {
             "colorbar": {
              "outlinewidth": 0,
              "ticks": ""
             }
            },
            "type": "parcoords"
           }
          ],
          "pie": [
           {
            "automargin": true,
            "type": "pie"
           }
          ],
          "scatter": [
           {
            "fillpattern": {
             "fillmode": "overlay",
             "size": 10,
             "solidity": 0.2
            },
            "type": "scatter"
           }
          ],
          "scatter3d": [
           {
            "line": {
             "colorbar": {
              "outlinewidth": 0,
              "ticks": ""
             }
            },
            "marker": {
             "colorbar": {
              "outlinewidth": 0,
              "ticks": ""
             }
            },
            "type": "scatter3d"
           }
          ],
          "scattercarpet": [
           {
            "marker": {
             "colorbar": {
              "outlinewidth": 0,
              "ticks": ""
             }
            },
            "type": "scattercarpet"
           }
          ],
          "scattergeo": [
           {
            "marker": {
             "colorbar": {
              "outlinewidth": 0,
              "ticks": ""
             }
            },
            "type": "scattergeo"
           }
          ],
          "scattergl": [
           {
            "marker": {
             "colorbar": {
              "outlinewidth": 0,
              "ticks": ""
             }
            },
            "type": "scattergl"
           }
          ],
          "scattermap": [
           {
            "marker": {
             "colorbar": {
              "outlinewidth": 0,
              "ticks": ""
             }
            },
            "type": "scattermap"
           }
          ],
          "scattermapbox": [
           {
            "marker": {
             "colorbar": {
              "outlinewidth": 0,
              "ticks": ""
             }
            },
            "type": "scattermapbox"
           }
          ],
          "scatterpolar": [
           {
            "marker": {
             "colorbar": {
              "outlinewidth": 0,
              "ticks": ""
             }
            },
            "type": "scatterpolar"
           }
          ],
          "scatterpolargl": [
           {
            "marker": {
             "colorbar": {
              "outlinewidth": 0,
              "ticks": ""
             }
            },
            "type": "scatterpolargl"
           }
          ],
          "scatterternary": [
           {
            "marker": {
             "colorbar": {
              "outlinewidth": 0,
              "ticks": ""
             }
            },
            "type": "scatterternary"
           }
          ],
          "surface": [
           {
            "colorbar": {
             "outlinewidth": 0,
             "ticks": ""
            },
            "colorscale": [
             [
              0,
              "#0d0887"
             ],
             [
              0.1111111111111111,
              "#46039f"
             ],
             [
              0.2222222222222222,
              "#7201a8"
             ],
             [
              0.3333333333333333,
              "#9c179e"
             ],
             [
              0.4444444444444444,
              "#bd3786"
             ],
             [
              0.5555555555555556,
              "#d8576b"
             ],
             [
              0.6666666666666666,
              "#ed7953"
             ],
             [
              0.7777777777777778,
              "#fb9f3a"
             ],
             [
              0.8888888888888888,
              "#fdca26"
             ],
             [
              1,
              "#f0f921"
             ]
            ],
            "type": "surface"
           }
          ],
          "table": [
           {
            "cells": {
             "fill": {
              "color": "#EBF0F8"
             },
             "line": {
              "color": "white"
             }
            },
            "header": {
             "fill": {
              "color": "#C8D4E3"
             },
             "line": {
              "color": "white"
             }
            },
            "type": "table"
           }
          ]
         },
         "layout": {
          "annotationdefaults": {
           "arrowcolor": "#2a3f5f",
           "arrowhead": 0,
           "arrowwidth": 1
          },
          "autotypenumbers": "strict",
          "coloraxis": {
           "colorbar": {
            "outlinewidth": 0,
            "ticks": ""
           }
          },
          "colorscale": {
           "diverging": [
            [
             0,
             "#8e0152"
            ],
            [
             0.1,
             "#c51b7d"
            ],
            [
             0.2,
             "#de77ae"
            ],
            [
             0.3,
             "#f1b6da"
            ],
            [
             0.4,
             "#fde0ef"
            ],
            [
             0.5,
             "#f7f7f7"
            ],
            [
             0.6,
             "#e6f5d0"
            ],
            [
             0.7,
             "#b8e186"
            ],
            [
             0.8,
             "#7fbc41"
            ],
            [
             0.9,
             "#4d9221"
            ],
            [
             1,
             "#276419"
            ]
           ],
           "sequential": [
            [
             0,
             "#0d0887"
            ],
            [
             0.1111111111111111,
             "#46039f"
            ],
            [
             0.2222222222222222,
             "#7201a8"
            ],
            [
             0.3333333333333333,
             "#9c179e"
            ],
            [
             0.4444444444444444,
             "#bd3786"
            ],
            [
             0.5555555555555556,
             "#d8576b"
            ],
            [
             0.6666666666666666,
             "#ed7953"
            ],
            [
             0.7777777777777778,
             "#fb9f3a"
            ],
            [
             0.8888888888888888,
             "#fdca26"
            ],
            [
             1,
             "#f0f921"
            ]
           ],
           "sequentialminus": [
            [
             0,
             "#0d0887"
            ],
            [
             0.1111111111111111,
             "#46039f"
            ],
            [
             0.2222222222222222,
             "#7201a8"
            ],
            [
             0.3333333333333333,
             "#9c179e"
            ],
            [
             0.4444444444444444,
             "#bd3786"
            ],
            [
             0.5555555555555556,
             "#d8576b"
            ],
            [
             0.6666666666666666,
             "#ed7953"
            ],
            [
             0.7777777777777778,
             "#fb9f3a"
            ],
            [
             0.8888888888888888,
             "#fdca26"
            ],
            [
             1,
             "#f0f921"
            ]
           ]
          },
          "colorway": [
           "#636efa",
           "#EF553B",
           "#00cc96",
           "#ab63fa",
           "#FFA15A",
           "#19d3f3",
           "#FF6692",
           "#B6E880",
           "#FF97FF",
           "#FECB52"
          ],
          "font": {
           "color": "#2a3f5f"
          },
          "geo": {
           "bgcolor": "white",
           "lakecolor": "white",
           "landcolor": "#E5ECF6",
           "showlakes": true,
           "showland": true,
           "subunitcolor": "white"
          },
          "hoverlabel": {
           "align": "left"
          },
          "hovermode": "closest",
          "mapbox": {
           "style": "light"
          },
          "paper_bgcolor": "white",
          "plot_bgcolor": "#E5ECF6",
          "polar": {
           "angularaxis": {
            "gridcolor": "white",
            "linecolor": "white",
            "ticks": ""
           },
           "bgcolor": "#E5ECF6",
           "radialaxis": {
            "gridcolor": "white",
            "linecolor": "white",
            "ticks": ""
           }
          },
          "scene": {
           "xaxis": {
            "backgroundcolor": "#E5ECF6",
            "gridcolor": "white",
            "gridwidth": 2,
            "linecolor": "white",
            "showbackground": true,
            "ticks": "",
            "zerolinecolor": "white"
           },
           "yaxis": {
            "backgroundcolor": "#E5ECF6",
            "gridcolor": "white",
            "gridwidth": 2,
            "linecolor": "white",
            "showbackground": true,
            "ticks": "",
            "zerolinecolor": "white"
           },
           "zaxis": {
            "backgroundcolor": "#E5ECF6",
            "gridcolor": "white",
            "gridwidth": 2,
            "linecolor": "white",
            "showbackground": true,
            "ticks": "",
            "zerolinecolor": "white"
           }
          },
          "shapedefaults": {
           "line": {
            "color": "#2a3f5f"
           }
          },
          "ternary": {
           "aaxis": {
            "gridcolor": "white",
            "linecolor": "white",
            "ticks": ""
           },
           "baxis": {
            "gridcolor": "white",
            "linecolor": "white",
            "ticks": ""
           },
           "bgcolor": "#E5ECF6",
           "caxis": {
            "gridcolor": "white",
            "linecolor": "white",
            "ticks": ""
           }
          },
          "title": {
           "x": 0.05
          },
          "xaxis": {
           "automargin": true,
           "gridcolor": "white",
           "linecolor": "white",
           "ticks": "",
           "title": {
            "standoff": 15
           },
           "zerolinecolor": "white",
           "zerolinewidth": 2
          },
          "yaxis": {
           "automargin": true,
           "gridcolor": "white",
           "linecolor": "white",
           "ticks": "",
           "title": {
            "standoff": 15
           },
           "zerolinecolor": "white",
           "zerolinewidth": 2
          }
         }
        },
        "width": 1200
       }
      }
     },
     "metadata": {},
     "output_type": "display_data"
    }
   ],
   "source": [
    "import umap\n",
    "import numpy as np\n",
    "import pandas as pd\n",
    "import plotly.express as px\n",
    "\n",
    "# Создаем DataFrame для удобства работы с Plotly\n",
    "df = pd.DataFrame({\n",
    "    'x': rdim_embedding_values[:, 0],\n",
    "    'y': rdim_embedding_values[:, 1],\n",
    "    'z': rdim_embedding_values[:, 2],\n",
    "    'file': embeddings['source'],\n",
    "    'line': [i if i < len(embeddings_a) else i - len(embeddings_a) for i in embeddings.index],\n",
    "    'cluster': cluster_labels,\n",
    "})\n",
    "\n",
    "# Создаем интерактивный 3D scatter plot\n",
    "fig = px.scatter_3d(\n",
    "    df,\n",
    "    x='x', y='y', z='z',\n",
    "    color='cluster',       # раскраска по меткам кластера\n",
    "    symbol='file',        # разные символы для групп 'a' и 'b'\n",
    "    hover_data=['file', 'line', 'cluster']  # данные, отображаемые при наведении\n",
    ")\n",
    "\n",
    "fig.update_layout(\n",
    "    width=1200,  # ширина графика в пикселях\n",
    "    height=800   # высота графика в пикселях\n",
    ")\n",
    "\n",
    "fig.show()\n"
   ]
  },
  {
   "cell_type": "code",
   "execution_count": 7,
   "metadata": {},
   "outputs": [
    {
     "name": "stdout",
     "output_type": "stream",
     "text": [
      "(261, 1538)\n",
      "Index(['path', 'source', 'x0', 'x1', 'x2', 'x3', 'x4', 'x5', 'x6', 'x7',\n",
      "       ...\n",
      "       'x1526', 'x1527', 'x1528', 'x1529', 'x1530', 'x1531', 'x1532', 'x1533',\n",
      "       'x1534', 'x1535'],\n",
      "      dtype='object', length=1538)\n"
     ]
    },
    {
     "data": {
      "text/html": [
       "<div>\n",
       "<style scoped>\n",
       "    .dataframe tbody tr th:only-of-type {\n",
       "        vertical-align: middle;\n",
       "    }\n",
       "\n",
       "    .dataframe tbody tr th {\n",
       "        vertical-align: top;\n",
       "    }\n",
       "\n",
       "    .dataframe thead th {\n",
       "        text-align: right;\n",
       "    }\n",
       "</style>\n",
       "<table border=\"1\" class=\"dataframe\">\n",
       "  <thead>\n",
       "    <tr style=\"text-align: right;\">\n",
       "      <th></th>\n",
       "      <th>path</th>\n",
       "      <th>source</th>\n",
       "      <th>x0</th>\n",
       "      <th>x1</th>\n",
       "      <th>x2</th>\n",
       "      <th>x3</th>\n",
       "      <th>x4</th>\n",
       "      <th>x5</th>\n",
       "      <th>x6</th>\n",
       "      <th>x7</th>\n",
       "      <th>...</th>\n",
       "      <th>x1526</th>\n",
       "      <th>x1527</th>\n",
       "      <th>x1528</th>\n",
       "      <th>x1529</th>\n",
       "      <th>x1530</th>\n",
       "      <th>x1531</th>\n",
       "      <th>x1532</th>\n",
       "      <th>x1533</th>\n",
       "      <th>x1534</th>\n",
       "      <th>x1535</th>\n",
       "    </tr>\n",
       "  </thead>\n",
       "  <tbody>\n",
       "    <tr>\n",
       "      <th>0</th>\n",
       "      <td>REQ-IF/THE-HEADER/REQ-IF-HEADER(IDENTIFIER=rmf...</td>\n",
       "      <td>a</td>\n",
       "      <td>-0.013178</td>\n",
       "      <td>0.004563</td>\n",
       "      <td>-0.032186</td>\n",
       "      <td>-0.019320</td>\n",
       "      <td>0.018794</td>\n",
       "      <td>0.008779</td>\n",
       "      <td>-0.030337</td>\n",
       "      <td>-0.032640</td>\n",
       "      <td>...</td>\n",
       "      <td>-0.017728</td>\n",
       "      <td>0.008174</td>\n",
       "      <td>0.008288</td>\n",
       "      <td>-0.011878</td>\n",
       "      <td>-0.009297</td>\n",
       "      <td>0.015880</td>\n",
       "      <td>-0.011536</td>\n",
       "      <td>-0.013740</td>\n",
       "      <td>0.010420</td>\n",
       "      <td>-0.011799</td>\n",
       "    </tr>\n",
       "    <tr>\n",
       "      <th>1</th>\n",
       "      <td>REQ-IF/THE-HEADER/REQ-IF-HEADER(IDENTIFIER=rmf...</td>\n",
       "      <td>a</td>\n",
       "      <td>-0.011923</td>\n",
       "      <td>-0.000079</td>\n",
       "      <td>-0.031470</td>\n",
       "      <td>-0.011971</td>\n",
       "      <td>-0.009430</td>\n",
       "      <td>0.000542</td>\n",
       "      <td>-0.029109</td>\n",
       "      <td>-0.016943</td>\n",
       "      <td>...</td>\n",
       "      <td>-0.017387</td>\n",
       "      <td>0.000864</td>\n",
       "      <td>0.013881</td>\n",
       "      <td>0.000167</td>\n",
       "      <td>0.008527</td>\n",
       "      <td>0.010666</td>\n",
       "      <td>-0.016929</td>\n",
       "      <td>0.014554</td>\n",
       "      <td>0.004739</td>\n",
       "      <td>-0.008159</td>\n",
       "    </tr>\n",
       "    <tr>\n",
       "      <th>2</th>\n",
       "      <td>REQ-IF/THE-HEADER/REQ-IF-HEADER(IDENTIFIER=rmf...</td>\n",
       "      <td>a</td>\n",
       "      <td>0.004816</td>\n",
       "      <td>-0.023657</td>\n",
       "      <td>-0.026129</td>\n",
       "      <td>-0.018742</td>\n",
       "      <td>0.002311</td>\n",
       "      <td>0.015833</td>\n",
       "      <td>-0.014548</td>\n",
       "      <td>-0.013432</td>\n",
       "      <td>...</td>\n",
       "      <td>-0.020423</td>\n",
       "      <td>0.027358</td>\n",
       "      <td>0.014872</td>\n",
       "      <td>-0.011271</td>\n",
       "      <td>-0.007150</td>\n",
       "      <td>0.020480</td>\n",
       "      <td>-0.014406</td>\n",
       "      <td>0.011871</td>\n",
       "      <td>-0.002694</td>\n",
       "      <td>-0.000628</td>\n",
       "    </tr>\n",
       "    <tr>\n",
       "      <th>3</th>\n",
       "      <td>REQ-IF/THE-HEADER/REQ-IF-HEADER(IDENTIFIER=rmf...</td>\n",
       "      <td>a</td>\n",
       "      <td>0.008786</td>\n",
       "      <td>0.002056</td>\n",
       "      <td>-0.025714</td>\n",
       "      <td>0.003283</td>\n",
       "      <td>-0.003377</td>\n",
       "      <td>0.021398</td>\n",
       "      <td>-0.027312</td>\n",
       "      <td>-0.018567</td>\n",
       "      <td>...</td>\n",
       "      <td>-0.021440</td>\n",
       "      <td>0.014560</td>\n",
       "      <td>0.016914</td>\n",
       "      <td>-0.000498</td>\n",
       "      <td>-0.003190</td>\n",
       "      <td>0.019548</td>\n",
       "      <td>-0.015372</td>\n",
       "      <td>-0.002004</td>\n",
       "      <td>0.002391</td>\n",
       "      <td>0.004992</td>\n",
       "    </tr>\n",
       "    <tr>\n",
       "      <th>4</th>\n",
       "      <td>REQ-IF/THE-HEADER/REQ-IF-HEADER(IDENTIFIER=rmf...</td>\n",
       "      <td>a</td>\n",
       "      <td>0.007889</td>\n",
       "      <td>-0.025455</td>\n",
       "      <td>-0.032208</td>\n",
       "      <td>-0.014558</td>\n",
       "      <td>0.000006</td>\n",
       "      <td>0.018318</td>\n",
       "      <td>-0.007314</td>\n",
       "      <td>-0.014785</td>\n",
       "      <td>...</td>\n",
       "      <td>-0.018928</td>\n",
       "      <td>0.032748</td>\n",
       "      <td>0.013196</td>\n",
       "      <td>-0.012401</td>\n",
       "      <td>-0.006087</td>\n",
       "      <td>0.023865</td>\n",
       "      <td>-0.012741</td>\n",
       "      <td>0.011606</td>\n",
       "      <td>-0.004469</td>\n",
       "      <td>0.001829</td>\n",
       "    </tr>\n",
       "    <tr>\n",
       "      <th>...</th>\n",
       "      <td>...</td>\n",
       "      <td>...</td>\n",
       "      <td>...</td>\n",
       "      <td>...</td>\n",
       "      <td>...</td>\n",
       "      <td>...</td>\n",
       "      <td>...</td>\n",
       "      <td>...</td>\n",
       "      <td>...</td>\n",
       "      <td>...</td>\n",
       "      <td>...</td>\n",
       "      <td>...</td>\n",
       "      <td>...</td>\n",
       "      <td>...</td>\n",
       "      <td>...</td>\n",
       "      <td>...</td>\n",
       "      <td>...</td>\n",
       "      <td>...</td>\n",
       "      <td>...</td>\n",
       "      <td>...</td>\n",
       "      <td>...</td>\n",
       "    </tr>\n",
       "    <tr>\n",
       "      <th>256</th>\n",
       "      <td>REQ-IF/TOOL-EXTENSIONS/REQ-IF-TOOL-EXTENSION/P...</td>\n",
       "      <td>b</td>\n",
       "      <td>0.001376</td>\n",
       "      <td>0.035300</td>\n",
       "      <td>-0.001704</td>\n",
       "      <td>-0.026398</td>\n",
       "      <td>-0.002596</td>\n",
       "      <td>0.020640</td>\n",
       "      <td>-0.018768</td>\n",
       "      <td>0.003972</td>\n",
       "      <td>...</td>\n",
       "      <td>-0.020682</td>\n",
       "      <td>0.012416</td>\n",
       "      <td>0.003261</td>\n",
       "      <td>-0.015666</td>\n",
       "      <td>-0.019928</td>\n",
       "      <td>0.015735</td>\n",
       "      <td>0.001777</td>\n",
       "      <td>-0.006785</td>\n",
       "      <td>-0.020822</td>\n",
       "      <td>-0.002056</td>\n",
       "    </tr>\n",
       "    <tr>\n",
       "      <th>257</th>\n",
       "      <td>REQ-IF/TOOL-EXTENSIONS/REQ-IF-TOOL-EXTENSION/P...</td>\n",
       "      <td>b</td>\n",
       "      <td>0.007993</td>\n",
       "      <td>0.010625</td>\n",
       "      <td>0.015102</td>\n",
       "      <td>-0.021250</td>\n",
       "      <td>-0.011123</td>\n",
       "      <td>0.027018</td>\n",
       "      <td>-0.013046</td>\n",
       "      <td>-0.010442</td>\n",
       "      <td>...</td>\n",
       "      <td>-0.021685</td>\n",
       "      <td>0.027931</td>\n",
       "      <td>0.016408</td>\n",
       "      <td>-0.021138</td>\n",
       "      <td>-0.007684</td>\n",
       "      <td>0.020492</td>\n",
       "      <td>-0.002412</td>\n",
       "      <td>-0.008899</td>\n",
       "      <td>-0.009586</td>\n",
       "      <td>-0.001828</td>\n",
       "    </tr>\n",
       "    <tr>\n",
       "      <th>258</th>\n",
       "      <td>REQ-IF/TOOL-EXTENSIONS/REQ-IF-TOOL-EXTENSION/P...</td>\n",
       "      <td>b</td>\n",
       "      <td>0.005152</td>\n",
       "      <td>0.010686</td>\n",
       "      <td>0.016075</td>\n",
       "      <td>-0.021861</td>\n",
       "      <td>-0.013280</td>\n",
       "      <td>0.027591</td>\n",
       "      <td>-0.008226</td>\n",
       "      <td>-0.007891</td>\n",
       "      <td>...</td>\n",
       "      <td>-0.026601</td>\n",
       "      <td>0.027354</td>\n",
       "      <td>0.015127</td>\n",
       "      <td>-0.022656</td>\n",
       "      <td>-0.006466</td>\n",
       "      <td>0.020564</td>\n",
       "      <td>-0.002086</td>\n",
       "      <td>-0.010157</td>\n",
       "      <td>-0.009236</td>\n",
       "      <td>-0.001384</td>\n",
       "    </tr>\n",
       "    <tr>\n",
       "      <th>259</th>\n",
       "      <td>REQ-IF/TOOL-EXTENSIONS/REQ-IF-TOOL-EXTENSION/P...</td>\n",
       "      <td>b</td>\n",
       "      <td>0.005577</td>\n",
       "      <td>0.012343</td>\n",
       "      <td>0.010280</td>\n",
       "      <td>-0.022294</td>\n",
       "      <td>-0.009553</td>\n",
       "      <td>0.024938</td>\n",
       "      <td>-0.011392</td>\n",
       "      <td>-0.006553</td>\n",
       "      <td>...</td>\n",
       "      <td>-0.023063</td>\n",
       "      <td>0.028518</td>\n",
       "      <td>0.013441</td>\n",
       "      <td>-0.024518</td>\n",
       "      <td>-0.004346</td>\n",
       "      <td>0.016546</td>\n",
       "      <td>-0.000478</td>\n",
       "      <td>-0.009077</td>\n",
       "      <td>-0.009623</td>\n",
       "      <td>-0.004283</td>\n",
       "    </tr>\n",
       "    <tr>\n",
       "      <th>260</th>\n",
       "      <td>REQ-IF/TOOL-EXTENSIONS/REQ-IF-TOOL-EXTENSION/P...</td>\n",
       "      <td>b</td>\n",
       "      <td>0.010954</td>\n",
       "      <td>-0.005512</td>\n",
       "      <td>0.019494</td>\n",
       "      <td>-0.017080</td>\n",
       "      <td>-0.014417</td>\n",
       "      <td>0.034077</td>\n",
       "      <td>-0.024489</td>\n",
       "      <td>-0.016901</td>\n",
       "      <td>...</td>\n",
       "      <td>-0.008181</td>\n",
       "      <td>0.026020</td>\n",
       "      <td>0.023592</td>\n",
       "      <td>-0.034160</td>\n",
       "      <td>-0.003835</td>\n",
       "      <td>0.023440</td>\n",
       "      <td>0.005163</td>\n",
       "      <td>-0.009651</td>\n",
       "      <td>-0.011762</td>\n",
       "      <td>-0.012444</td>\n",
       "    </tr>\n",
       "  </tbody>\n",
       "</table>\n",
       "<p>261 rows × 1538 columns</p>\n",
       "</div>"
      ],
      "text/plain": [
       "                                                  path source        x0  \\\n",
       "0    REQ-IF/THE-HEADER/REQ-IF-HEADER(IDENTIFIER=rmf...      a -0.013178   \n",
       "1    REQ-IF/THE-HEADER/REQ-IF-HEADER(IDENTIFIER=rmf...      a -0.011923   \n",
       "2    REQ-IF/THE-HEADER/REQ-IF-HEADER(IDENTIFIER=rmf...      a  0.004816   \n",
       "3    REQ-IF/THE-HEADER/REQ-IF-HEADER(IDENTIFIER=rmf...      a  0.008786   \n",
       "4    REQ-IF/THE-HEADER/REQ-IF-HEADER(IDENTIFIER=rmf...      a  0.007889   \n",
       "..                                                 ...    ...       ...   \n",
       "256  REQ-IF/TOOL-EXTENSIONS/REQ-IF-TOOL-EXTENSION/P...      b  0.001376   \n",
       "257  REQ-IF/TOOL-EXTENSIONS/REQ-IF-TOOL-EXTENSION/P...      b  0.007993   \n",
       "258  REQ-IF/TOOL-EXTENSIONS/REQ-IF-TOOL-EXTENSION/P...      b  0.005152   \n",
       "259  REQ-IF/TOOL-EXTENSIONS/REQ-IF-TOOL-EXTENSION/P...      b  0.005577   \n",
       "260  REQ-IF/TOOL-EXTENSIONS/REQ-IF-TOOL-EXTENSION/P...      b  0.010954   \n",
       "\n",
       "           x1        x2        x3        x4        x5        x6        x7  \\\n",
       "0    0.004563 -0.032186 -0.019320  0.018794  0.008779 -0.030337 -0.032640   \n",
       "1   -0.000079 -0.031470 -0.011971 -0.009430  0.000542 -0.029109 -0.016943   \n",
       "2   -0.023657 -0.026129 -0.018742  0.002311  0.015833 -0.014548 -0.013432   \n",
       "3    0.002056 -0.025714  0.003283 -0.003377  0.021398 -0.027312 -0.018567   \n",
       "4   -0.025455 -0.032208 -0.014558  0.000006  0.018318 -0.007314 -0.014785   \n",
       "..        ...       ...       ...       ...       ...       ...       ...   \n",
       "256  0.035300 -0.001704 -0.026398 -0.002596  0.020640 -0.018768  0.003972   \n",
       "257  0.010625  0.015102 -0.021250 -0.011123  0.027018 -0.013046 -0.010442   \n",
       "258  0.010686  0.016075 -0.021861 -0.013280  0.027591 -0.008226 -0.007891   \n",
       "259  0.012343  0.010280 -0.022294 -0.009553  0.024938 -0.011392 -0.006553   \n",
       "260 -0.005512  0.019494 -0.017080 -0.014417  0.034077 -0.024489 -0.016901   \n",
       "\n",
       "     ...     x1526     x1527     x1528     x1529     x1530     x1531  \\\n",
       "0    ... -0.017728  0.008174  0.008288 -0.011878 -0.009297  0.015880   \n",
       "1    ... -0.017387  0.000864  0.013881  0.000167  0.008527  0.010666   \n",
       "2    ... -0.020423  0.027358  0.014872 -0.011271 -0.007150  0.020480   \n",
       "3    ... -0.021440  0.014560  0.016914 -0.000498 -0.003190  0.019548   \n",
       "4    ... -0.018928  0.032748  0.013196 -0.012401 -0.006087  0.023865   \n",
       "..   ...       ...       ...       ...       ...       ...       ...   \n",
       "256  ... -0.020682  0.012416  0.003261 -0.015666 -0.019928  0.015735   \n",
       "257  ... -0.021685  0.027931  0.016408 -0.021138 -0.007684  0.020492   \n",
       "258  ... -0.026601  0.027354  0.015127 -0.022656 -0.006466  0.020564   \n",
       "259  ... -0.023063  0.028518  0.013441 -0.024518 -0.004346  0.016546   \n",
       "260  ... -0.008181  0.026020  0.023592 -0.034160 -0.003835  0.023440   \n",
       "\n",
       "        x1532     x1533     x1534     x1535  \n",
       "0   -0.011536 -0.013740  0.010420 -0.011799  \n",
       "1   -0.016929  0.014554  0.004739 -0.008159  \n",
       "2   -0.014406  0.011871 -0.002694 -0.000628  \n",
       "3   -0.015372 -0.002004  0.002391  0.004992  \n",
       "4   -0.012741  0.011606 -0.004469  0.001829  \n",
       "..        ...       ...       ...       ...  \n",
       "256  0.001777 -0.006785 -0.020822 -0.002056  \n",
       "257 -0.002412 -0.008899 -0.009586 -0.001828  \n",
       "258 -0.002086 -0.010157 -0.009236 -0.001384  \n",
       "259 -0.000478 -0.009077 -0.009623 -0.004283  \n",
       "260  0.005163 -0.009651 -0.011762 -0.012444  \n",
       "\n",
       "[261 rows x 1538 columns]"
      ]
     },
     "execution_count": 7,
     "metadata": {},
     "output_type": "execute_result"
    }
   ],
   "source": [
    "# embeddings.insert(loc=2, column='cluster_labels', value=cluster_labels)\n",
    "print(embeddings.shape)\n",
    "print(embeddings.columns)\n",
    "embeddings"
   ]
  },
  {
   "cell_type": "code",
   "execution_count": 8,
   "metadata": {},
   "outputs": [
    {
     "ename": "KeyError",
     "evalue": "'cluster_labels'",
     "output_type": "error",
     "traceback": [
      "\u001b[31m---------------------------------------------------------------------------\u001b[39m",
      "\u001b[31mKeyError\u001b[39m                                  Traceback (most recent call last)",
      "\u001b[36mFile \u001b[39m\u001b[32mc:\\Users\\bearp\\source\\personal\\standard-contradictions\\embeddings-clusters\\.venv\\Lib\\site-packages\\pandas\\core\\indexes\\base.py:3805\u001b[39m, in \u001b[36mIndex.get_loc\u001b[39m\u001b[34m(self, key)\u001b[39m\n\u001b[32m   3804\u001b[39m \u001b[38;5;28;01mtry\u001b[39;00m:\n\u001b[32m-> \u001b[39m\u001b[32m3805\u001b[39m     \u001b[38;5;28;01mreturn\u001b[39;00m \u001b[38;5;28;43mself\u001b[39;49m\u001b[43m.\u001b[49m\u001b[43m_engine\u001b[49m\u001b[43m.\u001b[49m\u001b[43mget_loc\u001b[49m\u001b[43m(\u001b[49m\u001b[43mcasted_key\u001b[49m\u001b[43m)\u001b[49m\n\u001b[32m   3806\u001b[39m \u001b[38;5;28;01mexcept\u001b[39;00m \u001b[38;5;167;01mKeyError\u001b[39;00m \u001b[38;5;28;01mas\u001b[39;00m err:\n",
      "\u001b[36mFile \u001b[39m\u001b[32mindex.pyx:167\u001b[39m, in \u001b[36mpandas._libs.index.IndexEngine.get_loc\u001b[39m\u001b[34m()\u001b[39m\n",
      "\u001b[36mFile \u001b[39m\u001b[32mindex.pyx:196\u001b[39m, in \u001b[36mpandas._libs.index.IndexEngine.get_loc\u001b[39m\u001b[34m()\u001b[39m\n",
      "\u001b[36mFile \u001b[39m\u001b[32mpandas\\\\_libs\\\\hashtable_class_helper.pxi:7081\u001b[39m, in \u001b[36mpandas._libs.hashtable.PyObjectHashTable.get_item\u001b[39m\u001b[34m()\u001b[39m\n",
      "\u001b[36mFile \u001b[39m\u001b[32mpandas\\\\_libs\\\\hashtable_class_helper.pxi:7089\u001b[39m, in \u001b[36mpandas._libs.hashtable.PyObjectHashTable.get_item\u001b[39m\u001b[34m()\u001b[39m\n",
      "\u001b[31mKeyError\u001b[39m: 'cluster_labels'",
      "\nThe above exception was the direct cause of the following exception:\n",
      "\u001b[31mKeyError\u001b[39m                                  Traceback (most recent call last)",
      "\u001b[36mCell\u001b[39m\u001b[36m \u001b[39m\u001b[32mIn[8]\u001b[39m\u001b[32m, line 10\u001b[39m\n\u001b[32m      3\u001b[39m \u001b[38;5;28;01mimport\u001b[39;00m\u001b[38;5;250m \u001b[39m\u001b[34;01mot\u001b[39;00m  \u001b[38;5;66;03m# Убедитесь, что библиотека установлена: pip install POT\u001b[39;00m\n\u001b[32m      5\u001b[39m \u001b[38;5;66;03m# Предположим, что ваш DataFrame называется embeddings\u001b[39;00m\n\u001b[32m      6\u001b[39m \u001b[38;5;66;03m# Например:\u001b[39;00m\n\u001b[32m      7\u001b[39m \u001b[38;5;66;03m# embeddings = pd.read_csv(\"your_embeddings.csv\")\u001b[39;00m\n\u001b[32m      8\u001b[39m \n\u001b[32m      9\u001b[39m \u001b[38;5;66;03m# Получаем уникальные номера кластеров\u001b[39;00m\n\u001b[32m---> \u001b[39m\u001b[32m10\u001b[39m clusters = \u001b[43membeddings\u001b[49m\u001b[43m[\u001b[49m\u001b[33;43m'\u001b[39;49m\u001b[33;43mcluster_labels\u001b[39;49m\u001b[33;43m'\u001b[39;49m\u001b[43m]\u001b[49m.unique()\n\u001b[32m     12\u001b[39m \u001b[38;5;66;03m# Выбираем столбцы с эмбеддингами (предполагается, что их названия начинаются с 'x')\u001b[39;00m\n\u001b[32m     13\u001b[39m embed_cols = [col \u001b[38;5;28;01mfor\u001b[39;00m col \u001b[38;5;129;01min\u001b[39;00m embeddings.columns \u001b[38;5;28;01mif\u001b[39;00m col.startswith(\u001b[33m'\u001b[39m\u001b[33mx\u001b[39m\u001b[33m'\u001b[39m)]\n",
      "\u001b[36mFile \u001b[39m\u001b[32mc:\\Users\\bearp\\source\\personal\\standard-contradictions\\embeddings-clusters\\.venv\\Lib\\site-packages\\pandas\\core\\frame.py:4102\u001b[39m, in \u001b[36mDataFrame.__getitem__\u001b[39m\u001b[34m(self, key)\u001b[39m\n\u001b[32m   4100\u001b[39m \u001b[38;5;28;01mif\u001b[39;00m \u001b[38;5;28mself\u001b[39m.columns.nlevels > \u001b[32m1\u001b[39m:\n\u001b[32m   4101\u001b[39m     \u001b[38;5;28;01mreturn\u001b[39;00m \u001b[38;5;28mself\u001b[39m._getitem_multilevel(key)\n\u001b[32m-> \u001b[39m\u001b[32m4102\u001b[39m indexer = \u001b[38;5;28;43mself\u001b[39;49m\u001b[43m.\u001b[49m\u001b[43mcolumns\u001b[49m\u001b[43m.\u001b[49m\u001b[43mget_loc\u001b[49m\u001b[43m(\u001b[49m\u001b[43mkey\u001b[49m\u001b[43m)\u001b[49m\n\u001b[32m   4103\u001b[39m \u001b[38;5;28;01mif\u001b[39;00m is_integer(indexer):\n\u001b[32m   4104\u001b[39m     indexer = [indexer]\n",
      "\u001b[36mFile \u001b[39m\u001b[32mc:\\Users\\bearp\\source\\personal\\standard-contradictions\\embeddings-clusters\\.venv\\Lib\\site-packages\\pandas\\core\\indexes\\base.py:3812\u001b[39m, in \u001b[36mIndex.get_loc\u001b[39m\u001b[34m(self, key)\u001b[39m\n\u001b[32m   3807\u001b[39m     \u001b[38;5;28;01mif\u001b[39;00m \u001b[38;5;28misinstance\u001b[39m(casted_key, \u001b[38;5;28mslice\u001b[39m) \u001b[38;5;129;01mor\u001b[39;00m (\n\u001b[32m   3808\u001b[39m         \u001b[38;5;28misinstance\u001b[39m(casted_key, abc.Iterable)\n\u001b[32m   3809\u001b[39m         \u001b[38;5;129;01mand\u001b[39;00m \u001b[38;5;28many\u001b[39m(\u001b[38;5;28misinstance\u001b[39m(x, \u001b[38;5;28mslice\u001b[39m) \u001b[38;5;28;01mfor\u001b[39;00m x \u001b[38;5;129;01min\u001b[39;00m casted_key)\n\u001b[32m   3810\u001b[39m     ):\n\u001b[32m   3811\u001b[39m         \u001b[38;5;28;01mraise\u001b[39;00m InvalidIndexError(key)\n\u001b[32m-> \u001b[39m\u001b[32m3812\u001b[39m     \u001b[38;5;28;01mraise\u001b[39;00m \u001b[38;5;167;01mKeyError\u001b[39;00m(key) \u001b[38;5;28;01mfrom\u001b[39;00m\u001b[38;5;250m \u001b[39m\u001b[34;01merr\u001b[39;00m\n\u001b[32m   3813\u001b[39m \u001b[38;5;28;01mexcept\u001b[39;00m \u001b[38;5;167;01mTypeError\u001b[39;00m:\n\u001b[32m   3814\u001b[39m     \u001b[38;5;66;03m# If we have a listlike key, _check_indexing_error will raise\u001b[39;00m\n\u001b[32m   3815\u001b[39m     \u001b[38;5;66;03m#  InvalidIndexError. Otherwise we fall through and re-raise\u001b[39;00m\n\u001b[32m   3816\u001b[39m     \u001b[38;5;66;03m#  the TypeError.\u001b[39;00m\n\u001b[32m   3817\u001b[39m     \u001b[38;5;28mself\u001b[39m._check_indexing_error(key)\n",
      "\u001b[31mKeyError\u001b[39m: 'cluster_labels'"
     ]
    }
   ],
   "source": [
    "import numpy as np\n",
    "import pandas as pd\n",
    "import ot  # Убедитесь, что библиотека установлена: pip install POT\n",
    "\n",
    "# Предположим, что ваш DataFrame называется embeddings\n",
    "# Например:\n",
    "# embeddings = pd.read_csv(\"your_embeddings.csv\")\n",
    "\n",
    "# Получаем уникальные номера кластеров\n",
    "clusters = embeddings['cluster_labels'].unique()\n",
    "\n",
    "# Выбираем столбцы с эмбеддингами (предполагается, что их названия начинаются с 'x')\n",
    "embed_cols = [col for col in embeddings.columns if col.startswith('x')]\n",
    "\n",
    "emd_results = {}\n",
    "\n",
    "for cl in clusters:\n",
    "    # Отбираем данные для данного кластера\n",
    "    cluster_data = embeddings[embeddings['cluster_labels'] == cl]\n",
    "    \n",
    "    # Разбиваем по источнику\n",
    "    group_a = cluster_data[cluster_data['source'] == 'a']\n",
    "    group_b = cluster_data[cluster_data['source'] == 'b']\n",
    "    \n",
    "    # Если хотя бы одной группы нет, можно пропустить кластер\n",
    "    if group_a.empty or group_b.empty:\n",
    "        continue\n",
    "    \n",
    "    # Извлекаем эмбеддинги\n",
    "    X_a = group_a[embed_cols].values\n",
    "    X_b = group_b[embed_cols].values\n",
    "    \n",
    "    # Задаём равномерные веса для каждой выборки\n",
    "    a_weights = np.ones(X_a.shape[0]) / X_a.shape[0]\n",
    "    b_weights = np.ones(X_b.shape[0]) / X_b.shape[0]\n",
    "    \n",
    "    # Вычисляем матрицу попарных евклидовых расстояний между точками групп\n",
    "    M = ot.dist(X_a, X_b, metric='euclidean')\n",
    "    \n",
    "    # Вычисляем квадрат EMD (Wasserstein distance) с помощью POT\n",
    "    emd2 = ot.emd2(a_weights, b_weights, M)\n",
    "    \n",
    "    # Если нужно получить именно EMD, можно взять квадратный корень\n",
    "    emd_value = np.sqrt(emd2)\n",
    "    \n",
    "    emd_results[cl] = emd_value\n",
    "\n",
    "print(\"EMD для каждого кластера:\")\n",
    "for cl, emd_val in emd_results.items():\n",
    "    print(f\"Кластер {cl}: EMD = {emd_val}\")\n"
   ]
  }
 ],
 "metadata": {
  "kernelspec": {
   "display_name": ".venv",
   "language": "python",
   "name": "python3"
  },
  "language_info": {
   "codemirror_mode": {
    "name": "ipython",
    "version": 3
   },
   "file_extension": ".py",
   "mimetype": "text/x-python",
   "name": "python",
   "nbconvert_exporter": "python",
   "pygments_lexer": "ipython3",
   "version": "3.12.8"
  }
 },
 "nbformat": 4,
 "nbformat_minor": 2
}
